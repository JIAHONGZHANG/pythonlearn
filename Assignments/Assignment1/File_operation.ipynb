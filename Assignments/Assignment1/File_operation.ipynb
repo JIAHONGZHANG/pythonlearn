{
 "cells": [
  {
   "cell_type": "code",
   "execution_count": 2,
   "metadata": {
    "collapsed": true
   },
   "outputs": [],
   "source": [
    "import os\n",
    "\n",
    "rootdir = '/Users/zhangjiahong/Documents/9021/Assignments/Assignment1'\n",
    "L = []\n",
    "\n",
    "for i in range(1, 5):\n",
    "    L.append('Ass1_Q' + str(i))\n",
    "\n",
    "with open('Total_results.md', 'w') as ff:\n",
    "    for dirname in L:\n",
    "        file_directory = rootdir + '/' + dirname + '/' + dirname + '_results.txt'\n",
    "        print(dirname, file = ff)\n",
    "        if os.path.isfile(file_directory):\n",
    "            with open(file_directory) as f:\n",
    "                lines = f.readlines()\n",
    "                for line in lines:\n",
    "                    if line.startswith('Penalty') or line == '\\n':\n",
    "                        continue\n",
    "                    print(line, file = ff)\n",
    "        else:\n",
    "            print('unfinshed.', file = ff)\n",
    "        print('\\n', file = ff)\n",
    "    ff.close()"
   ]
  },
  {
   "cell_type": "code",
   "execution_count": 1,
   "metadata": {},
   "outputs": [
    {
     "data": {
      "text/plain": [
       "'/Users/zhangjiahong/Documents/9021/Assignments/Assignment1'"
      ]
     },
     "execution_count": 1,
     "metadata": {},
     "output_type": "execute_result"
    }
   ],
   "source": [
    "pwd"
   ]
  },
  {
   "cell_type": "code",
   "execution_count": null,
   "metadata": {
    "collapsed": true
   },
   "outputs": [],
   "source": []
  }
 ],
 "metadata": {
  "kernelspec": {
   "display_name": "Python 3",
   "language": "python",
   "name": "python3"
  },
  "language_info": {
   "codemirror_mode": {
    "name": "ipython",
    "version": 3
   },
   "file_extension": ".py",
   "mimetype": "text/x-python",
   "name": "python",
   "nbconvert_exporter": "python",
   "pygments_lexer": "ipython3",
   "version": "3.6.1"
  }
 },
 "nbformat": 4,
 "nbformat_minor": 2
}
