{
 "cells": [
  {
   "cell_type": "code",
   "execution_count": 1,
   "metadata": {
    "collapsed": true
   },
   "outputs": [],
   "source": [
    "filename = open('new_text.txt', 'w')"
   ]
  },
  {
   "cell_type": "code",
   "execution_count": 3,
   "metadata": {},
   "outputs": [
    {
     "data": {
      "text/plain": [
       "36"
      ]
     },
     "execution_count": 3,
     "metadata": {},
     "output_type": "execute_result"
    }
   ],
   "source": [
    "filename.write('This is a test.\\nThis is second line.')"
   ]
  },
  {
   "cell_type": "code",
   "execution_count": 4,
   "metadata": {
    "collapsed": true
   },
   "outputs": [],
   "source": [
    "filename.close()"
   ]
  },
  {
   "cell_type": "code",
   "execution_count": 5,
   "metadata": {
    "collapsed": true
   },
   "outputs": [],
   "source": [
    "filename = open('new_text.txt', 'a')\n",
    "filename.write('KKKKKKKKK')\n",
    "filename.close()"
   ]
  },
  {
   "cell_type": "code",
   "execution_count": 16,
   "metadata": {},
   "outputs": [
    {
     "name": "stdout",
     "output_type": "stream",
     "text": [
      "['This is a test.\\n', 'This is second line.KKKKKKKKK']\n"
     ]
    }
   ],
   "source": [
    "filename = open('new_text.txt')\n",
    "print(filename.readlines())"
   ]
  },
  {
   "cell_type": "code",
   "execution_count": 36,
   "metadata": {},
   "outputs": [],
   "source": [
    "import os\n",
    "\n",
    "rootdir = '/Users/zhangjiahong/Documents/9021/Quizzes'\n",
    "L = []\n",
    "\n",
    "for i in range(1, 11):\n",
    "    L.append('quiz_' + str(i))\n",
    "\n",
    "with open('Total_results.md', 'w') as ff:\n",
    "    for dirname in L:\n",
    "        file_directory = rootdir + '/' + dirname + '/' + dirname + '_results.txt'\n",
    "        print(dirname, file = ff)\n",
    "        if os.path.isfile(file_directory):\n",
    "            with open(file_directory) as f:\n",
    "                lines = f.readlines()\n",
    "                for line in lines:\n",
    "                    if line.startswith('Penalty') or line == '\\n':\n",
    "                        continue\n",
    "                    print(line, file = ff)\n",
    "        else:\n",
    "            print('unfinshed.', file = ff)\n",
    "        print('\\n', file = ff)\n",
    "    ff.close()"
   ]
  },
  {
   "cell_type": "code",
   "execution_count": 33,
   "metadata": {},
   "outputs": [
    {
     "name": "stdout",
     "output_type": "stream",
     "text": [
      "/Users/zhangjiahong/Documents/9021/Quizzes\n"
     ]
    }
   ],
   "source": [
    "cd Quizzes/"
   ]
  },
  {
   "cell_type": "code",
   "execution_count": null,
   "metadata": {
    "collapsed": true
   },
   "outputs": [],
   "source": []
  }
 ],
 "metadata": {
  "kernelspec": {
   "display_name": "Python 3",
   "language": "python",
   "name": "python3"
  },
  "language_info": {
   "codemirror_mode": {
    "name": "ipython",
    "version": 3
   },
   "file_extension": ".py",
   "mimetype": "text/x-python",
   "name": "python",
   "nbconvert_exporter": "python",
   "pygments_lexer": "ipython3",
   "version": "3.6.1"
  }
 },
 "nbformat": 4,
 "nbformat_minor": 2
}
